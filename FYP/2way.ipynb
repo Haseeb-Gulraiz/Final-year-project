{
 "cells": [
  {
   "cell_type": "code",
   "execution_count": 1,
   "id": "c680cd31",
   "metadata": {},
   "outputs": [],
   "source": [
    "import numpy as np\n",
    "import cv2 \n",
    "import os"
   ]
  },
  {
   "cell_type": "code",
   "execution_count": 9,
   "id": "6a6c3350",
   "metadata": {},
   "outputs": [
    {
     "name": "stdout",
     "output_type": "stream",
     "text": [
      "Enter your name: haseeb\n"
     ]
    }
   ],
   "source": [
    "#text = input(\"Enter Text: \")\n",
    "#if (text == 'Haseeb'):"
   ]
  },
  {
   "cell_type": "code",
   "execution_count": 8,
   "id": "f4272477",
   "metadata": {
    "collapsed": true
   },
   "outputs": [
    {
     "name": "stdout",
     "output_type": "stream",
     "text": [
      "Enter Text: Haseeb\n"
     ]
    }
   ],
   "source": [
    "# Create a VideoCapture object and read from input file\n",
    "cap = cv2.VideoCapture('G:\\HASEEB SSUET\\FINAL YEAR PROJECT\\FYP_MIDYEAR\\Animated Pitch Deck Video.mp4')\n",
    "   \n",
    "# Check if camera opened successfully\n",
    "if (cap.isOpened()== False): \n",
    "  print(\"Error opening video  file\")\n",
    "\n",
    "text = input(\"Enter Text: \")\n",
    "if (text == 'Haseeb'):\n",
    "   \n",
    "    # Read until video is completed\n",
    "    while(cap.isOpened()):\n",
    "\n",
    "      # Capture frame-by-frame\n",
    "      ret, frame = cap.read()\n",
    "      if ret == True:\n",
    "\n",
    "        # Display the resulting frame\n",
    "        cv2.imshow('Frame', frame)\n",
    "\n",
    "        # Press Q on keyboard to  exit\n",
    "        if cv2.waitKey(25) & 0xFF == ord('q'):\n",
    "          break\n",
    "\n",
    "      # Break the loop\n",
    "      else: \n",
    "        break\n",
    "\n",
    "# When everything done, release \n",
    "# the video capture object\n",
    "cap.release()\n",
    "   \n",
    "# Closes all the frames\n",
    "cv2.destroyAllWindows()"
   ]
  },
  {
   "cell_type": "code",
   "execution_count": 10,
   "id": "7c9f2a83",
   "metadata": {
    "collapsed": true
   },
   "outputs": [
    {
     "name": "stdout",
     "output_type": "stream",
     "text": [
      "Enter textcat how are you\n",
      "no cat\n",
      "no cat\n",
      "no cat\n",
      "no cat\n"
     ]
    }
   ],
   "source": [
    "text = input('Enter text')\n",
    "words = text.split()\n",
    "# print list\n",
    "#print('list: ', user_list)\n",
    "# convert each item to int type\n",
    "for i in range(len(words)):\n",
    "    path = ('G:\\cat')\n",
    "    if( words[i] == path):\n",
    "     print ('cat')\n",
    "    else:\n",
    "       print('no cat')\n",
    "    "
   ]
  },
  {
   "cell_type": "code",
   "execution_count": 8,
   "id": "6be764ed",
   "metadata": {},
   "outputs": [],
   "source": [
    "import os\n",
    "# Motion detection\n",
    "import cv2\n",
    "# Scan target directory\n",
    "# os.scandir returns an iterator, make it a list to be re-usable\n",
    "\n",
    "# Target directory is in the same directory as the script\n",
    "targetDirectory = \"G:\\Twowaydata\"\n",
    "dircontent = list(os.scandir(targetDirectory))\n",
    "\n",
    "#text = input('Enter text: ')\n",
    "#words = text.split()\n",
    "\n",
    "# Search for mp4 files and make a list [ [filename, path], [filename, path], ... ]\n",
    "mp4Files = [[f.name[:-4], os.path.abspath(f)] for f in dircontent if f.name.lower().endswith('.mp4')]\n",
    "    \n",
    "for videofile in mp4Files:\n",
    "\n",
    "    cap = cv2.VideoCapture(videofile[1])\n",
    "    while(cap.isOpened()):\n",
    "        ret, frame1 = cap.read()\n",
    "        if ret == True:\n",
    "\n",
    "            # Display the resulting frame\n",
    "          cv2.imshow('Frame', frame1)\n",
    "\n",
    "            # Press Q on keyboard to  exit\n",
    "          if cv2.waitKey(25) & 0xFF == ord('q'):\n",
    "            break\n",
    "        else: \n",
    "         break\n",
    "\n",
    "# When everything done, release \n",
    "# the video capture object\n",
    "cap.release()\n",
    "\n",
    "# Closes all the frames\n",
    "cv2.destroyAllWindows()\n"
   ]
  },
  {
   "cell_type": "code",
   "execution_count": 34,
   "id": "149eb11b",
   "metadata": {},
   "outputs": [],
   "source": [
    "# the video capture object\n",
    "cap.release()\n",
    "   \n",
    "# Closes all the frames\n",
    "cv2.destroyAllWindows()"
   ]
  },
  {
   "cell_type": "code",
   "execution_count": 3,
   "id": "b223f098",
   "metadata": {},
   "outputs": [
    {
     "name": "stdout",
     "output_type": "stream",
     "text": [
      "Enter text: good bye\n"
     ]
    }
   ],
   "source": [
    "import os\n",
    "import cv2\n",
    "# Scan target directory\n",
    "\n",
    "# Ask user for text\n",
    "text = input('Enter text: ')\n",
    "words = text.split()\n",
    "\n",
    "# Scan target directory\n",
    "# Target directory is in the same directory as the script\n",
    "targetDirectory = \"G:\\Twowaydata\"\n",
    "dircontent = list(os.scandir(targetDirectory))\n",
    "matched=[j for x in words\n",
    "    for j in dircontent\n",
    "        if x in j.name[:-4]\n",
    "        ]\n",
    "# Search for mp4 files and make a list [ [filename, path], [filename, path] ]\n",
    "mp4Files = [[f.name[:-4], os.path.abspath(f)] for f in matched if f.name.lower().endswith('.mp4')]\n",
    "    \n",
    "for videofile in mp4Files:\n",
    "\n",
    "    cap = cv2.VideoCapture(videofile[1])\n",
    "    while(cap.isOpened()):\n",
    "        ret, frame1 = cap.read()\n",
    "        if ret == True:\n",
    "\n",
    "            # Display the resulting frame\n",
    "          cv2.imshow('Frame', frame1)\n",
    "\n",
    "            # Press Q on keyboard to  exit\n",
    "          if cv2.waitKey(25) & 0xFF == ord('q'):\n",
    "            break\n",
    "        else: \n",
    "         break\n",
    "\n",
    "# When everything done, release \n",
    "# the video capture object\n",
    "cap.release()\n",
    "\n",
    "# Closes all the frames\n",
    "cv2.destroyAllWindows()"
   ]
  },
  {
   "cell_type": "code",
   "execution_count": 82,
   "id": "c56123ca",
   "metadata": {
    "collapsed": true
   },
   "outputs": [
    {
     "ename": "TypeError",
     "evalue": "list indices must be integers or slices, not list",
     "output_type": "error",
     "traceback": [
      "\u001b[1;31m---------------------------------------------------------------------------\u001b[0m",
      "\u001b[1;31mTypeError\u001b[0m                                 Traceback (most recent call last)",
      "\u001b[1;32m<ipython-input-82-a7abcd9562ac>\u001b[0m in \u001b[0;36m<module>\u001b[1;34m\u001b[0m\n\u001b[0;32m      1\u001b[0m \u001b[0mmp4Files\u001b[0m \u001b[1;33m=\u001b[0m \u001b[1;33m[\u001b[0m\u001b[1;33m[\u001b[0m\u001b[0mf\u001b[0m\u001b[1;33m.\u001b[0m\u001b[0mname\u001b[0m\u001b[1;33m[\u001b[0m\u001b[1;33m:\u001b[0m\u001b[1;33m-\u001b[0m\u001b[1;36m4\u001b[0m\u001b[1;33m]\u001b[0m\u001b[1;33m,\u001b[0m \u001b[0mos\u001b[0m\u001b[1;33m.\u001b[0m\u001b[0mpath\u001b[0m\u001b[1;33m.\u001b[0m\u001b[0mabspath\u001b[0m\u001b[1;33m(\u001b[0m\u001b[0mf\u001b[0m\u001b[1;33m)\u001b[0m\u001b[1;33m]\u001b[0m \u001b[1;32mfor\u001b[0m \u001b[0mf\u001b[0m \u001b[1;32min\u001b[0m \u001b[0mdircontent\u001b[0m \u001b[1;32mif\u001b[0m \u001b[0mf\u001b[0m\u001b[1;33m.\u001b[0m\u001b[0mname\u001b[0m\u001b[1;33m.\u001b[0m\u001b[0mlower\u001b[0m\u001b[1;33m(\u001b[0m\u001b[1;33m)\u001b[0m\u001b[1;33m.\u001b[0m\u001b[0mendswith\u001b[0m\u001b[1;33m(\u001b[0m\u001b[1;34m'.mp4'\u001b[0m\u001b[1;33m)\u001b[0m\u001b[1;33m]\u001b[0m\u001b[1;33m\u001b[0m\u001b[1;33m\u001b[0m\u001b[0m\n\u001b[1;32m----> 2\u001b[1;33m \u001b[0mmp4Files\u001b[0m\u001b[1;33m[\u001b[0m\u001b[1;33m[\u001b[0m\u001b[1;36m0\u001b[0m\u001b[1;33m]\u001b[0m\u001b[1;33m]\u001b[0m\u001b[1;33m\u001b[0m\u001b[1;33m\u001b[0m\u001b[0m\n\u001b[0m",
      "\u001b[1;31mTypeError\u001b[0m: list indices must be integers or slices, not list"
     ]
    }
   ],
   "source": [
    "mp4Files = [[f.name[:-4], os.path.abspath(f)] for f in dircontent if f.name.lower().endswith('.mp4')]\n",
    "mp4Files"
   ]
  },
  {
   "cell_type": "code",
   "execution_count": 2,
   "id": "f413e28c",
   "metadata": {},
   "outputs": [
    {
     "data": {
      "text/plain": [
       "[<DirEntry 'bye.mp4'>, <DirEntry 'good.mp4'>, <DirEntry 'hi.mp4'>]"
      ]
     },
     "execution_count": 2,
     "metadata": {},
     "output_type": "execute_result"
    }
   ],
   "source": [
    "targetDirectory = \"G:\\Twowaydata\"\n",
    "dircontent = list(os.scandir(targetDirectory))\n",
    "dircontent"
   ]
  },
  {
   "cell_type": "code",
   "execution_count": 17,
   "id": "047aa48f",
   "metadata": {},
   "outputs": [
    {
     "data": {
      "text/plain": [
       "[<DirEntry 'bye.mp4'>, <DirEntry 'good.mp4'>, <DirEntry 'hi.mp4'>]"
      ]
     },
     "execution_count": 17,
     "metadata": {},
     "output_type": "execute_result"
    }
   ],
   "source": [
    "targetDirectory = \"G:\\Twowaydata\"\n",
    "dircontent = list(os.scandir(targetDirectory))\n",
    "_dircontent=[ x for x in dircontent if (x.name[:-4] in words) ]\n",
    "_dircontent\n",
    "#w=[y.name[:-4] for y in _dircontent]\n",
    "#z=[v for v in words if (w.name[:-4] in words) ]\n"
   ]
  },
  {
   "cell_type": "code",
   "execution_count": 35,
   "id": "8c2479c6",
   "metadata": {},
   "outputs": [
    {
     "name": "stdout",
     "output_type": "stream",
     "text": [
      "Enter text: hi bye good\n"
     ]
    },
    {
     "data": {
      "text/plain": [
       "['hi', 'bye', 'good']"
      ]
     },
     "execution_count": 35,
     "metadata": {},
     "output_type": "execute_result"
    }
   ],
   "source": [
    "text = input('Enter text: ')\n",
    "words = text.split()\n",
    "words"
   ]
  },
  {
   "cell_type": "code",
   "execution_count": 36,
   "id": "c564bed2",
   "metadata": {},
   "outputs": [
    {
     "data": {
      "text/plain": [
       "[<DirEntry 'hi.mp4'>, <DirEntry 'bye.mp4'>, <DirEntry 'good.mp4'>]"
      ]
     },
     "execution_count": 36,
     "metadata": {},
     "output_type": "execute_result"
    }
   ],
   "source": [
    "matched=[j for x in words\n",
    "    for j in dircontent\n",
    "        if x in j.name[:-4]\n",
    "        ]\n",
    "matched"
   ]
  },
  {
   "cell_type": "code",
   "execution_count": null,
   "id": "858349d5",
   "metadata": {},
   "outputs": [],
   "source": []
  }
 ],
 "metadata": {
  "kernelspec": {
   "display_name": "Python 3 (ipykernel)",
   "language": "python",
   "name": "python3"
  },
  "language_info": {
   "codemirror_mode": {
    "name": "ipython",
    "version": 3
   },
   "file_extension": ".py",
   "mimetype": "text/x-python",
   "name": "python",
   "nbconvert_exporter": "python",
   "pygments_lexer": "ipython3",
   "version": "3.10.8"
  }
 },
 "nbformat": 4,
 "nbformat_minor": 5
}
